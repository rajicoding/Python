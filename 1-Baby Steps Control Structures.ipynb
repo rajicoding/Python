{
 "cells": [
  {
   "cell_type": "code",
   "execution_count": 2,
   "id": "aa7ab109-bd15-486b-b1d8-ad212ff84193",
   "metadata": {},
   "outputs": [
    {
     "name": "stdout",
     "output_type": "stream",
     "text": [
      "Welcome to Assignment-1\n"
     ]
    }
   ],
   "source": [
    "#to print desired text\n",
    "print(\"Welcome to Assignment-1\")"
   ]
  },
  {
   "cell_type": "code",
   "execution_count": 12,
   "id": "390423cb-4a32-4c6c-b199-a92e06669e27",
   "metadata": {},
   "outputs": [
    {
     "name": "stdout",
     "output_type": "stream",
     "text": [
      "Num1 = 10\n",
      "Num2 = 30\n",
      "Add = 40\n"
     ]
    }
   ],
   "source": [
    "#Addition of two numbers\n",
    "Num1=10\n",
    "Num2=30\n",
    "print(\"Num1 =\",Num1)\n",
    "print(\"Num2 =\",Num2)\n",
    "print(\"Add =\",Num1+Num2)"
   ]
  },
  {
   "cell_type": "code",
   "execution_count": 14,
   "id": "1f50b0c0-cfab-456e-a0fe-c20d41bdebd9",
   "metadata": {},
   "outputs": [
    {
     "name": "stdin",
     "output_type": "stream",
     "text": [
      "Enter the BMI Index 40\n"
     ]
    },
    {
     "name": "stdout",
     "output_type": "stream",
     "text": [
      "Obese class 3\n"
     ]
    }
   ],
   "source": [
    "#To determine weight category based on given Body mass index\n",
    "BMI_Index=int(input(\"Enter the BMI Index\"))\n",
    "if(BMI_Index<18.5):\n",
    "    print(\"Under weight\")\n",
    "elif(BMI_Index<=24.9):\n",
    "    print(\"Normal range\")\n",
    "elif(BMI_Index<=29.9):\n",
    "    print(\"Preobese\")\n",
    "elif((BMI_Index>=30.0) and (BMI_Index<=34.9)):\n",
    "    print(\"Obese class 1\")\n",
    "elif((BMI_Index>=35.9) and (BMI_Index<=39.9)):\n",
    "    print(\"Obese class 2\")\n",
    "else:\n",
    "    print(\"Obese class 3\")\n",
    "\n",
    "\n"
   ]
  },
  {
   "cell_type": "code",
   "execution_count": null,
   "id": "b96cee63-4104-4cf6-a326-af466f82c015",
   "metadata": {},
   "outputs": [],
   "source": []
  },
  {
   "cell_type": "code",
   "execution_count": null,
   "id": "4b992997-1b25-403b-8396-5ce1b45c2372",
   "metadata": {},
   "outputs": [],
   "source": []
  }
 ],
 "metadata": {
  "kernelspec": {
   "display_name": "Python [conda env:base] *",
   "language": "python",
   "name": "conda-base-py"
  },
  "language_info": {
   "codemirror_mode": {
    "name": "ipython",
    "version": 3
   },
   "file_extension": ".py",
   "mimetype": "text/x-python",
   "name": "python",
   "nbconvert_exporter": "python",
   "pygments_lexer": "ipython3",
   "version": "3.12.7"
  }
 },
 "nbformat": 4,
 "nbformat_minor": 5
}
