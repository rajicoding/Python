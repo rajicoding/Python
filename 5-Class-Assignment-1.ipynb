{
 "cells": [
  {
   "cell_type": "code",
   "execution_count": 2,
   "id": "ae34d6f8-4ba0-4d6c-99b6-9c6207b11f56",
   "metadata": {},
   "outputs": [],
   "source": [
    "# Create a class and function to list out the items in the list\n",
    "class SubfieldsinAI():\n",
    "    def Subfields():\n",
    "        print(\"Subfields in AI are\")\n",
    "        list=[\"Machine learning\",\"Neural Network\",\"Vision\",\"Robotics\",\"Speech Processing\",\"Natural Language Processing\"]\n",
    "        for i in list:\n",
    "            print(i)\n",
    "        \n",
    "        "
   ]
  },
  {
   "cell_type": "code",
   "execution_count": 4,
   "id": "48a40a31-626a-4e58-a0de-ad228c6d7a18",
   "metadata": {},
   "outputs": [
    {
     "name": "stdout",
     "output_type": "stream",
     "text": [
      "Subfields in AI are\n",
      "Machine learning\n",
      "Neural Network\n",
      "Vision\n",
      "Robotics\n",
      "Speech Processing\n",
      "Natural Language Processing\n"
     ]
    }
   ],
   "source": [
    "SubfieldsinAI.Subfields()"
   ]
  },
  {
   "cell_type": "code",
   "execution_count": 6,
   "id": "3c0b4724-166e-4970-bca3-89f6708b450d",
   "metadata": {},
   "outputs": [],
   "source": [
    "# Create a class with function that checks whether the given number is odd or even\n",
    "class OddEven():\n",
    "    def OddEven():\n",
    "        number = int(input(\"enter the number:\"))\n",
    "        if(number%2 ==0):\n",
    "            print(number,\"is even number\")\n",
    "            message=number,\"is even number\"\n",
    "        else:\n",
    "            print(number,\"is odd number\")\n",
    "            message=number, \"is odd number\"\n",
    "        return message"
   ]
  },
  {
   "cell_type": "code",
   "execution_count": 8,
   "id": "9e4cf0f1-7629-4bad-810d-1d9fc4580af6",
   "metadata": {},
   "outputs": [
    {
     "name": "stdin",
     "output_type": "stream",
     "text": [
      "enter the number: 35\n"
     ]
    },
    {
     "name": "stdout",
     "output_type": "stream",
     "text": [
      "35 is odd number\n"
     ]
    }
   ],
   "source": [
    "message=OddEven.OddEven()"
   ]
  },
  {
   "cell_type": "code",
   "execution_count": 10,
   "id": "f6498a85-d080-4869-853f-a71592240d2f",
   "metadata": {},
   "outputs": [
    {
     "data": {
      "text/plain": [
       "(35, 'is odd number')"
      ]
     },
     "execution_count": 10,
     "metadata": {},
     "output_type": "execute_result"
    }
   ],
   "source": [
    "message"
   ]
  },
  {
   "cell_type": "code",
   "execution_count": 2,
   "id": "e417c19b-a802-49c8-a671-8caec6950592",
   "metadata": {},
   "outputs": [],
   "source": [
    "# Create a class with function that checks the eligible age of marriage for female and male \n",
    "class EligiblityForMarriage():\n",
    "    def Eligible(gender,age):\n",
    "        print(\"Your Gender:\",gender)\n",
    "        print(\"Your age:\",age)\n",
    "        if((gender==\"Male\")and(age>=21)):\n",
    "            print(\"ELIGIBLE\")\n",
    "            message=\"ELIGIBLE\"\n",
    "        elif((gender==\"Female\")and(age>=18)):\n",
    "            print(\"ELIGIBLE\")\n",
    "            message=\"ELIGIBLE\"\n",
    "        else:\n",
    "            print(\"NOT ELIGIBLE\")\n",
    "            message=\"NOT ELIGIBLE\"\n",
    "        return message\n",
    "        "
   ]
  },
  {
   "cell_type": "code",
   "execution_count": 4,
   "id": "9c7aa5d7-0ea5-467f-b325-3b243fc02d15",
   "metadata": {},
   "outputs": [
    {
     "name": "stdout",
     "output_type": "stream",
     "text": [
      "Your Gender: Female\n",
      "Your age: 17\n",
      "NOT ELIGIBLE\n"
     ]
    }
   ],
   "source": [
    "message=EligiblityForMarriage.Eligible(\"Female\",17)"
   ]
  },
  {
   "cell_type": "code",
   "execution_count": 6,
   "id": "82d1210a-f093-495c-acfe-88f56b737b55",
   "metadata": {},
   "outputs": [
    {
     "data": {
      "text/plain": [
       "'NOT ELIGIBLE'"
      ]
     },
     "execution_count": 6,
     "metadata": {},
     "output_type": "execute_result"
    }
   ],
   "source": [
    "message"
   ]
  },
  {
   "cell_type": "code",
   "execution_count": 10,
   "id": "35d74689-a5ba-4488-acda-2fe7acec15d4",
   "metadata": {},
   "outputs": [],
   "source": [
    "# calculate percentage of your 10th mark using class with function\n",
    "\n",
    "class FindPercent():\n",
    "    def percentage(sub1,sub2,sub3,sub4,sub5):\n",
    "        Total=sub1+sub2+sub3+sub4+sub5\n",
    "        percentage=(Total/500) * 100\n",
    "        print(\"Subject1=\",sub1)\n",
    "        print(\"Subject2=\",sub2)\n",
    "        print(\"Subject3=\",sub3)\n",
    "        print(\"Subject4=\",sub4)\n",
    "        print(\"Subject5=\",sub5)\n",
    "        print(\"Total:\",Total)\n",
    "        print(\"Percentage:\",percentage)\n",
    "        return percentage\n",
    "        "
   ]
  },
  {
   "cell_type": "code",
   "execution_count": 20,
   "id": "664520b0-4289-4dda-b31e-557c1f3656a8",
   "metadata": {},
   "outputs": [
    {
     "name": "stdout",
     "output_type": "stream",
     "text": [
      "Subject1= 98\n",
      "Subject2= 87\n",
      "Subject3= 95\n",
      "Subject4= 95\n",
      "Subject5= 93\n",
      "Total: 468\n",
      "Percentage: 93.60000000000001\n"
     ]
    }
   ],
   "source": [
    "percentage=FindPercent.percentage(98,87,95,95,93)"
   ]
  },
  {
   "cell_type": "code",
   "execution_count": 36,
   "id": "203b50e6-39d4-4c3f-8215-18c0d2428c4e",
   "metadata": {},
   "outputs": [],
   "source": [
    "# Class with multiple functions to determine area and perimeter of triangle \n",
    "class triangle():\n",
    "    def area_triangle(height,breadth):\n",
    "        Area = (height*breadth)/2\n",
    "        print(\"Height:\",height)\n",
    "        print(\"Breadth:\",breadth)\n",
    "        print(\"Area formula:(Height*Breadth)/2\")\n",
    "        print(\"Area of triangle:\",Area)\n",
    "        return Area\n",
    "    def perimeter_triangle(height1,height2,breadth):\n",
    "        Perimeter=height1+height2+breadth\n",
    "        print(\"Height1:\",height1)\n",
    "        print(\"Height2:\",height2)\n",
    "        print(\"Breadth:\",breadth)\n",
    "        print(\"Perimeter formula:Height1+Height2+Breadth\")\n",
    "        print(\"Perimeter of triangle:\",Perimeter)\n",
    "        return Perimeter\n",
    "    "
   ]
  },
  {
   "cell_type": "code",
   "execution_count": 38,
   "id": "80bb3f15-d12c-40e6-912c-290c8d76bff5",
   "metadata": {},
   "outputs": [
    {
     "name": "stdout",
     "output_type": "stream",
     "text": [
      "Height: 32\n",
      "Breadth: 34\n",
      "Area formula:(Height*Breadth)/2\n",
      "Area of triangle: 544.0\n",
      "Height1: 2\n",
      "Height2: 4\n",
      "Breadth: 4\n",
      "Perimeter formula:Height1+Height2+Breadth\n",
      "Perimeter of triangle: 10\n"
     ]
    }
   ],
   "source": [
    "area=triangle.area_triangle(32,34)\n",
    "perimeter=triangle.perimeter_triangle(2,4,4)\n"
   ]
  },
  {
   "cell_type": "code",
   "execution_count": 40,
   "id": "32c07695-1c77-40dc-be7e-adcf2e69bdfe",
   "metadata": {},
   "outputs": [
    {
     "data": {
      "text/plain": [
       "544.0"
      ]
     },
     "execution_count": 40,
     "metadata": {},
     "output_type": "execute_result"
    }
   ],
   "source": [
    "area"
   ]
  },
  {
   "cell_type": "code",
   "execution_count": 42,
   "id": "99d5e793-367b-4f2c-b54f-bd7e295ae596",
   "metadata": {},
   "outputs": [
    {
     "data": {
      "text/plain": [
       "10"
      ]
     },
     "execution_count": 42,
     "metadata": {},
     "output_type": "execute_result"
    }
   ],
   "source": [
    "perimeter"
   ]
  },
  {
   "cell_type": "code",
   "execution_count": 72,
   "id": "67352219-2734-434e-819e-49c9127d04f8",
   "metadata": {},
   "outputs": [],
   "source": [
    "# area and perimeter of triangle in the same function triangle() \n",
    "class triangle():\n",
    "    def triangle(height,breadth,Height1,Height2,Breadth):\n",
    "        Area = (height*breadth)/2\n",
    "        print(\"Height:\",height)\n",
    "        print(\"Breadth:\",breadth)\n",
    "        print(\"Area formula:(Height*Breadth)/2\")\n",
    "        print(\"Area of triangle:\",Area)\n",
    "        Perimeter=Height1+Height2+Breadth\n",
    "        print(\"Height1:\",Height1)\n",
    "        print(\"Height2:\",Height2)\n",
    "        print(\"Breadth:\",Breadth)\n",
    "        print(\"Perimeter formula:Height1+Height2+Breadth\")\n",
    "        print(\"Perimeter of triangle:\",Perimeter)\n",
    "        return Area,Perimeter"
   ]
  },
  {
   "cell_type": "code",
   "execution_count": 76,
   "id": "27f9fbde-c51f-4e88-8033-8960441cdb96",
   "metadata": {},
   "outputs": [
    {
     "name": "stdout",
     "output_type": "stream",
     "text": [
      "Height: 32\n",
      "Breadth: 36\n",
      "Area formula:(Height*Breadth)/2\n",
      "Area of triangle: 576.0\n",
      "Height1: 4\n",
      "Height2: 4\n",
      "Breadth: 2\n",
      "Perimeter formula:Height1+Height2+Breadth\n",
      "Perimeter of triangle: 10\n"
     ]
    }
   ],
   "source": [
    "Area,perimeter=triangle.triangle(32,36,4,4,2)"
   ]
  },
  {
   "cell_type": "code",
   "execution_count": 78,
   "id": "78373743-226f-4e6b-859c-ac0751f3eac5",
   "metadata": {},
   "outputs": [
    {
     "data": {
      "text/plain": [
       "(576.0, 10)"
      ]
     },
     "execution_count": 78,
     "metadata": {},
     "output_type": "execute_result"
    }
   ],
   "source": [
    "Area,perimeter"
   ]
  },
  {
   "cell_type": "code",
   "execution_count": null,
   "id": "31464b8f-d41a-4271-8070-4219d32994a0",
   "metadata": {},
   "outputs": [],
   "source": []
  }
 ],
 "metadata": {
  "kernelspec": {
   "display_name": "Python [conda env:base] *",
   "language": "python",
   "name": "conda-base-py"
  },
  "language_info": {
   "codemirror_mode": {
    "name": "ipython",
    "version": 3
   },
   "file_extension": ".py",
   "mimetype": "text/x-python",
   "name": "python",
   "nbconvert_exporter": "python",
   "pygments_lexer": "ipython3",
   "version": "3.12.7"
  }
 },
 "nbformat": 4,
 "nbformat_minor": 5
}
