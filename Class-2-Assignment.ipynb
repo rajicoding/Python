{
 "cells": [
  {
   "cell_type": "code",
   "execution_count": 2,
   "id": "a387aa55-d557-406f-a7bc-36e510c41196",
   "metadata": {},
   "outputs": [],
   "source": [
    "#from filename import classname\n",
    "from MultipleCalculations import multiplecalculations"
   ]
  },
  {
   "cell_type": "code",
   "execution_count": 4,
   "id": "07afcd59-9606-4fa7-a951-e91e7e52ea5b",
   "metadata": {},
   "outputs": [
    {
     "name": "stdout",
     "output_type": "stream",
     "text": [
      "Subfields in AI are\n",
      "Machine learning\n",
      "Neural Network\n",
      "Vision\n",
      "Robotics\n",
      "Speech Processing\n",
      "Natural Language Processing\n"
     ]
    }
   ],
   "source": [
    "#classname.functionname()\n",
    "multiplecalculations.Subfields()"
   ]
  },
  {
   "cell_type": "code",
   "execution_count": 6,
   "id": "6052c4de-7860-4575-8331-295b85a71bf0",
   "metadata": {},
   "outputs": [
    {
     "name": "stdin",
     "output_type": "stream",
     "text": [
      "enter the number: 1863\n"
     ]
    },
    {
     "name": "stdout",
     "output_type": "stream",
     "text": [
      "1863 is odd number\n"
     ]
    },
    {
     "data": {
      "text/plain": [
       "(1863, 'is odd number')"
      ]
     },
     "execution_count": 6,
     "metadata": {},
     "output_type": "execute_result"
    }
   ],
   "source": [
    "multiplecalculations.OddEven()"
   ]
  },
  {
   "cell_type": "code",
   "execution_count": 8,
   "id": "2fbb89ee-1b10-4344-bde0-ba3ceddc5660",
   "metadata": {},
   "outputs": [
    {
     "name": "stdout",
     "output_type": "stream",
     "text": [
      "Your Gender: Male\n",
      "Your age: 20\n",
      "NOT ELIGIBLE\n"
     ]
    }
   ],
   "source": [
    "message=multiplecalculations.Eligible(\"Male\",20)"
   ]
  },
  {
   "cell_type": "code",
   "execution_count": 10,
   "id": "8a1e6585-efdb-41b7-a783-4f92cf901734",
   "metadata": {},
   "outputs": [
    {
     "name": "stdout",
     "output_type": "stream",
     "text": [
      "Subject1= 90\n",
      "Subject2= 92\n",
      "Subject3= 93\n",
      "Subject4= 94\n",
      "Subject5= 90\n",
      "Total: 459\n",
      "Percentage: 91.8\n"
     ]
    },
    {
     "data": {
      "text/plain": [
       "91.8"
      ]
     },
     "execution_count": 10,
     "metadata": {},
     "output_type": "execute_result"
    }
   ],
   "source": [
    "multiplecalculations.percentage(90,92,93,94,90)"
   ]
  },
  {
   "cell_type": "code",
   "execution_count": 14,
   "id": "905725cc-638a-488f-ac20-d887252256de",
   "metadata": {},
   "outputs": [
    {
     "name": "stdout",
     "output_type": "stream",
     "text": [
      "Height: 35\n",
      "Breadth: 34\n",
      "Area formula:(Height*Breadth)/2\n",
      "Area of triangle: 595.0\n",
      "Height1: 5\n",
      "Height2: 6\n",
      "Breadth: 3\n",
      "Perimeter formula:Height1+Height2+Breadth\n",
      "Perimeter of triangle: 14\n"
     ]
    }
   ],
   "source": [
    "area=multiplecalculations.area_triangle(35,34)\n",
    "perimeter=multiplecalculations.perimeter_triangle(5,6,3)"
   ]
  },
  {
   "cell_type": "code",
   "execution_count": 16,
   "id": "2cedd033-db1f-43d8-a694-cb94596c87b0",
   "metadata": {},
   "outputs": [
    {
     "data": {
      "text/plain": [
       "(595.0, 14)"
      ]
     },
     "execution_count": 16,
     "metadata": {},
     "output_type": "execute_result"
    }
   ],
   "source": [
    "area,perimeter"
   ]
  },
  {
   "cell_type": "code",
   "execution_count": 18,
   "id": "34f146d0-8e5e-47bd-bacf-e1f6a4bc2d07",
   "metadata": {},
   "outputs": [
    {
     "name": "stdout",
     "output_type": "stream",
     "text": [
      "Height: 32\n",
      "Breadth: 34\n",
      "Area formula:(Height*Breadth)/2\n",
      "Area of triangle: 544.0\n",
      "Height1: 4\n",
      "Height2: 4\n",
      "Breadth: 2\n",
      "Perimeter formula:Height1+Height2+Breadth\n",
      "Perimeter of triangle: 10\n"
     ]
    }
   ],
   "source": [
    "Area,Perimeter=multiplecalculations.triangle(32,34,4,4,2)"
   ]
  },
  {
   "cell_type": "code",
   "execution_count": 20,
   "id": "edbbf1a6-54b3-45da-90bf-1845481f89d2",
   "metadata": {},
   "outputs": [
    {
     "data": {
      "text/plain": [
       "(595.0, 14)"
      ]
     },
     "execution_count": 20,
     "metadata": {},
     "output_type": "execute_result"
    }
   ],
   "source": [
    "area,perimeter"
   ]
  },
  {
   "cell_type": "code",
   "execution_count": null,
   "id": "23a31c12-cbf8-47a1-b446-5b67c0cd982c",
   "metadata": {},
   "outputs": [],
   "source": []
  }
 ],
 "metadata": {
  "kernelspec": {
   "display_name": "Python [conda env:base] *",
   "language": "python",
   "name": "conda-base-py"
  },
  "language_info": {
   "codemirror_mode": {
    "name": "ipython",
    "version": 3
   },
   "file_extension": ".py",
   "mimetype": "text/x-python",
   "name": "python",
   "nbconvert_exporter": "python",
   "pygments_lexer": "ipython3",
   "version": "3.12.7"
  }
 },
 "nbformat": 4,
 "nbformat_minor": 5
}
