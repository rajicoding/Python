{
 "cells": [
  {
   "cell_type": "code",
   "execution_count": 8,
   "id": "c73582c5-ccd1-4ad9-977f-61dae942b8fb",
   "metadata": {},
   "outputs": [
    {
     "name": "stdout",
     "output_type": "stream",
     "text": [
      "0\n",
      "1\n",
      "2\n",
      "3\n",
      "4\n",
      "5\n",
      "6\n",
      "7\n",
      "8\n",
      "9\n",
      "10\n",
      "11\n",
      "12\n",
      "13\n",
      "14\n",
      "15\n",
      "16\n",
      "17\n",
      "18\n",
      "19\n"
     ]
    }
   ],
   "source": [
    "#print 0 to 20 using range\n",
    "r = range(20)\n",
    "for n in r:\n",
    "    print(n)\n"
   ]
  },
  {
   "cell_type": "code",
   "execution_count": 16,
   "id": "6aba4465-8153-4573-9bd3-4073d5f15934",
   "metadata": {},
   "outputs": [
    {
     "name": "stdout",
     "output_type": "stream",
     "text": [
      "10 11 12 13 14 15 16 17 18 19 "
     ]
    }
   ],
   "source": [
    "#print range 10 to 20 in single line\n",
    "r = range(10, 20)\n",
    "for v in r:\n",
    "    print(v, end=\" \")\n"
   ]
  },
  {
   "cell_type": "code",
   "execution_count": 22,
   "id": "78b7bba9-a026-448d-a735-1f9692211547",
   "metadata": {},
   "outputs": [
    {
     "name": "stdout",
     "output_type": "stream",
     "text": [
      "[10, 20, 14, 55, 43, 87, 76]\n",
      "Number of item in the List2:\n",
      " 7\n"
     ]
    }
   ],
   "source": [
    "# print number of items in the list using len \n",
    "List2=[10,20,14,55,43,87,76] \n",
    "print(List2)\n",
    "print(\"Number of item in the List2:\\n\",len(List2))\n"
   ]
  },
  {
   "cell_type": "code",
   "execution_count": 36,
   "id": "de2058f1-8d0e-4833-9aef-151459ea7ff3",
   "metadata": {},
   "outputs": [
    {
     "name": "stdout",
     "output_type": "stream",
     "text": [
      "Artificial Intelligence\n",
      "A\n",
      "r\n",
      "t\n",
      "i\n",
      "f\n",
      "i\n",
      "c\n",
      "i\n",
      "a\n",
      "l\n",
      " \n",
      "I\n",
      "n\n",
      "t\n",
      "e\n",
      "l\n",
      "l\n",
      "i\n",
      "g\n",
      "e\n",
      "n\n",
      "c\n",
      "e\n"
     ]
    }
   ],
   "source": [
    "#print the string value in sequence\n",
    "course_name = \"Artificial Intelligence\"\n",
    "print(course_name)\n",
    "for char in course_name:\n",
    "    print(char)"
   ]
  },
  {
   "cell_type": "code",
   "execution_count": 38,
   "id": "8690b415-43ec-4602-952d-723a0b7b891c",
   "metadata": {},
   "outputs": [
    {
     "name": "stdout",
     "output_type": "stream",
     "text": [
      "-Your Name-\n",
      "-Your Age-\n",
      "-Your Profession-\n"
     ]
    }
   ],
   "source": [
    "#print statement \n",
    "print(\"-Your Name-\")\n",
    "print(\"-Your Age-\")\n",
    "print(\"-Your Profession-\")\n",
    "\n"
   ]
  },
  {
   "cell_type": "code",
   "execution_count": 52,
   "id": "67398c68-601d-49df-a6ca-381c7ee0a6f1",
   "metadata": {},
   "outputs": [
    {
     "name": "stdout",
     "output_type": "stream",
     "text": [
      "(1, 'Welcome', 2, 'Geeks')\n"
     ]
    }
   ],
   "source": [
    "# Creating a Tuple with Mixed Datatype\n",
    "tup1 = (1, 'Welcome', 2, 'Geeks')\n",
    "print(tup1)"
   ]
  },
  {
   "cell_type": "code",
   "execution_count": 56,
   "id": "dd8c6fe0-2c64-4eed-8f99-24469ac63ad3",
   "metadata": {},
   "outputs": [
    {
     "name": "stdout",
     "output_type": "stream",
     "text": [
      "((0, 1, 2, 3), ('Python', 'Hope'))\n"
     ]
    }
   ],
   "source": [
    "#Creating tuple with nested tuple\n",
    "tuple1=(0,1,2,3)\n",
    "tuple2=('Python','Hope')\n",
    "tuple3=(tup1,tup2)\n",
    "print(tup3)"
   ]
  },
  {
   "cell_type": "code",
   "execution_count": 58,
   "id": "ba8e8fcf-867d-4800-9b6a-caee6921a788",
   "metadata": {},
   "outputs": [
    {
     "name": "stdout",
     "output_type": "stream",
     "text": [
      "(0, 1, 2, 3, 'Python', 'Hope')\n"
     ]
    }
   ],
   "source": [
    "#Creating tuple with concatenation\n",
    "tuple1=(0,1,2,3)\n",
    "tuple2=('Python','Hope')\n",
    "tuple3=tuple1+tuple2\n",
    "print(tuple3)"
   ]
  },
  {
   "cell_type": "code",
   "execution_count": 48,
   "id": "b4d0899d-bcbb-4cca-9dc3-684900b10189",
   "metadata": {},
   "outputs": [
    {
     "name": "stdout",
     "output_type": "stream",
     "text": [
      "19 is odd\n",
      "25 is odd\n",
      "1 is odd\n"
     ]
    }
   ],
   "source": [
    "#print odd numbers in the list\n",
    "list1=(20,10,16,19,25,1,276,188)\n",
    "for num in list1:\n",
    "    if(num%2!=0):\n",
    "        print(num,\"is odd\")\n",
    "\n",
    "        "
   ]
  },
  {
   "cell_type": "code",
   "execution_count": 50,
   "id": "4ae26f42-cc3e-4096-aafe-f986e82422a0",
   "metadata": {},
   "outputs": [
    {
     "name": "stdout",
     "output_type": "stream",
     "text": [
      "20 is even\n",
      "10 is even\n",
      "16 is even\n",
      "276 is even\n",
      "188 is even\n"
     ]
    }
   ],
   "source": [
    "#print even numbers in the list\n",
    "list1=(20,10,16,19,25,1,276,188)\n",
    "for num in list1:\n",
    "    if(num%2==0):\n",
    "        print(num,\"is even\")\n"
   ]
  },
  {
   "cell_type": "code",
   "execution_count": null,
   "id": "682b67e1-f662-409c-b910-6d987249ba9c",
   "metadata": {},
   "outputs": [],
   "source": []
  }
 ],
 "metadata": {
  "kernelspec": {
   "display_name": "Python [conda env:base] *",
   "language": "python",
   "name": "conda-base-py"
  },
  "language_info": {
   "codemirror_mode": {
    "name": "ipython",
    "version": 3
   },
   "file_extension": ".py",
   "mimetype": "text/x-python",
   "name": "python",
   "nbconvert_exporter": "python",
   "pygments_lexer": "ipython3",
   "version": "3.12.7"
  }
 },
 "nbformat": 4,
 "nbformat_minor": 5
}
