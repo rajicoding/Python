{
 "cells": [
  {
   "cell_type": "markdown",
   "id": "d5c642ec-53cd-4efd-83cb-05871db91ad0",
   "metadata": {},
   "source": [
    "1.Write a Python program that prints numbers from 1 to 5.\n",
    "Expected Output:\n",
    "1 2 3 4 5\n"
   ]
  },
  {
   "cell_type": "code",
   "execution_count": 26,
   "id": "48e913f3-113b-490f-8456-71dce84b009f",
   "metadata": {},
   "outputs": [
    {
     "name": "stdout",
     "output_type": "stream",
     "text": [
      "1 2 3 4 5 "
     ]
    }
   ],
   "source": [
    "for i in range(1,6):\n",
    "    print(i, end=' ')\n",
    "   \n",
    " # usually each print is printed in new line by default, here to change it we use end=' ' so the next character is placed in same line"
   ]
  },
  {
   "cell_type": "markdown",
   "id": "30cc68e0-a6e1-4635-a3f2-dca17092b250",
   "metadata": {},
   "source": [
    "2.Write a Python program to print the first 5 even numbers. \n",
    "Expected Output:\n",
    "2 4 6 8 10\n",
    "\n"
   ]
  },
  {
   "cell_type": "code",
   "execution_count": 28,
   "id": "42bf3c96-ba13-4c75-8ec9-63e2f77626f6",
   "metadata": {},
   "outputs": [
    {
     "name": "stdout",
     "output_type": "stream",
     "text": [
      "2 4 6 8 10 "
     ]
    }
   ],
   "source": [
    "for i in range(2,11):\n",
    "    if(i%2==0):\n",
    "        print(i,end=' ')\n",
    "        "
   ]
  },
  {
   "cell_type": "markdown",
   "id": "9128c212-bf1b-4510-85ea-e1d7c61bbfd0",
   "metadata": {},
   "source": [
    "3.Write a Python program to print the sum of numbers from 1 to 10. \n",
    "Expected Output:55\n",
    "\n"
   ]
  },
  {
   "cell_type": "code",
   "execution_count": 30,
   "id": "0af362ca-0191-4cb6-859a-07035288447e",
   "metadata": {},
   "outputs": [
    {
     "name": "stdout",
     "output_type": "stream",
     "text": [
      "sum of first 10 numbers is: 55\n"
     ]
    }
   ],
   "source": [
    "sum=0\n",
    "for i in range(1,11):\n",
    "   sum=sum+i\n",
    "print(\"sum of first 10 numbers is:\",+sum)\n"
   ]
  },
  {
   "cell_type": "markdown",
   "id": "5208f2e2-2c9c-41cd-810e-92cab261ac58",
   "metadata": {},
   "source": [
    "4.Write a Python function to find the factorial of 5. Expected Output:\n",
    "120\n",
    "\n"
   ]
  },
  {
   "cell_type": "code",
   "execution_count": 40,
   "id": "42f5ecf5-e382-4b53-8c19-0b02c47491fe",
   "metadata": {},
   "outputs": [
    {
     "name": "stdout",
     "output_type": "stream",
     "text": [
      "120\n"
     ]
    }
   ],
   "source": [
    "n=5\n",
    "fact=1\n",
    "for i in range(1,n+1):\n",
    "    fact = fact * i\n",
    "print(fact)"
   ]
  },
  {
   "cell_type": "markdown",
   "id": "70f3c2dd-8bcd-4d82-a5f7-c00f5a292be4",
   "metadata": {},
   "source": [
    "5.Write a Python program to check if a number is prime. Expected Output (for input 7):\n",
    "7 is a prime number\n",
    "\n"
   ]
  },
  {
   "cell_type": "code",
   "execution_count": 94,
   "id": "9256aeec-44e7-45db-a110-fc4eda7ec5de",
   "metadata": {},
   "outputs": [
    {
     "name": "stdout",
     "output_type": "stream",
     "text": [
      "7 is a prime number\n"
     ]
    }
   ],
   "source": [
    "n=7\n",
    "def is_prime(n):\n",
    "    for i in range(2,int(0.5*n)+1):\n",
    "        if(n%i==0):\n",
    "            return False\n",
    "    return True\n",
    "if(is_prime(n)):\n",
    "    print(f\"{n} is a prime number\")\n",
    "else:\n",
    "    print(f\"{n} is  not a prime number\")\n",
    "\n",
    "\n",
    "# here loop runs up to the squareroot of number, to check if the number is divisible by any other number within the range"
   ]
  },
  {
   "cell_type": "code",
   "execution_count": null,
   "id": "858f90cd-a59c-4de0-aa2e-7d0b59d85cd5",
   "metadata": {},
   "outputs": [],
   "source": []
  }
 ],
 "metadata": {
  "kernelspec": {
   "display_name": "Python [conda env:base] *",
   "language": "python",
   "name": "conda-base-py"
  },
  "language_info": {
   "codemirror_mode": {
    "name": "ipython",
    "version": 3
   },
   "file_extension": ".py",
   "mimetype": "text/x-python",
   "name": "python",
   "nbconvert_exporter": "python",
   "pygments_lexer": "ipython3",
   "version": "3.12.7"
  }
 },
 "nbformat": 4,
 "nbformat_minor": 5
}
