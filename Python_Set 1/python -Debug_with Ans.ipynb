{
 "cells": [
  {
   "cell_type": "code",
   "execution_count": null,
   "id": "8e02775a",
   "metadata": {},
   "outputs": [],
   "source": [
    "#1.Find the error in the following Python code:\n",
    "\n",
    " for i in range(5)\n",
    "    print(i)\n",
    "\n",
    "# indentation and syntax error(missing :)"
   ]
  },
  {
   "cell_type": "code",
   "execution_count": 2,
   "id": "ce50fa6b-b9e5-43a5-b716-d2ad9dafbb00",
   "metadata": {},
   "outputs": [
    {
     "name": "stdout",
     "output_type": "stream",
     "text": [
      "0\n",
      "1\n",
      "2\n",
      "3\n",
      "4\n"
     ]
    }
   ],
   "source": [
    "#1.Correct code \n",
    "for i in range(5):\n",
    "    print(i)\n"
   ]
  },
  {
   "cell_type": "code",
   "execution_count": null,
   "id": "df3cee51",
   "metadata": {},
   "outputs": [],
   "source": [
    "#2.What will be the output of this code?\n",
    "\n",
    "a = 10\n",
    "b = \"5\"\n",
    "print(a + b)\n",
    " # cannot add integer and string data type, will get an type error"
   ]
  },
  {
   "cell_type": "code",
   "execution_count": 10,
   "id": "15c2e7b2",
   "metadata": {},
   "outputs": [],
   "source": [
    "#3.What is the issue in this Python snippet?\n",
    "\n",
    " def add_numbers(a, b)\n",
    "    return a + b\n",
    "\n",
    "# missing: in function\n"
   ]
  },
  {
   "cell_type": "code",
   "execution_count": 8,
   "id": "8e9d8787-157d-43e4-b712-3906b55fc478",
   "metadata": {},
   "outputs": [
    {
     "data": {
      "text/plain": [
       "11"
      ]
     },
     "execution_count": 8,
     "metadata": {},
     "output_type": "execute_result"
    }
   ],
   "source": [
    "# 3 correct code with function call \n",
    "def add_numbers(a,b):\n",
    "    return a+b\n",
    "add_numbers(5,6)"
   ]
  },
  {
   "cell_type": "code",
   "execution_count": null,
   "id": "2f8e5efd",
   "metadata": {},
   "outputs": [],
   "source": [
    "\n",
    "#4.Identify the bug in the following Python code:\n",
    "\n",
    " numbers = [1, 2, 3, 4]\n",
    "print(numbers[4])\n",
    "# Indexerror: value is not available in the specified index(values available only till index 3 in the given variable)\n",
    "\n"
   ]
  },
  {
   "cell_type": "code",
   "execution_count": 14,
   "id": "bc0080c1",
   "metadata": {},
   "outputs": [],
   "source": [
    "#5.Find the error in the following Python code:\n",
    "print \"Hello, World!\"\n",
    "# open and close parenthesis missing in print statement"
   ]
  },
  {
   "cell_type": "code",
   "execution_count": 12,
   "id": "25a95ded-e175-43ad-850e-bad839894322",
   "metadata": {},
   "outputs": [
    {
     "name": "stdout",
     "output_type": "stream",
     "text": [
      "Hello,World!\n"
     ]
    }
   ],
   "source": [
    "#5 corrrect code\n",
    "print(\"Hello,World!\")"
   ]
  },
  {
   "cell_type": "code",
   "execution_count": null,
   "id": "5b449ecb",
   "metadata": {},
   "outputs": [],
   "source": [
    "#6.Find the error in the following Python code:\n",
    "x = 5 / 0\n",
    "# zero division error(divide by zero)"
   ]
  },
  {
   "cell_type": "code",
   "execution_count": null,
   "id": "79260565",
   "metadata": {},
   "outputs": [],
   "source": [
    "#7.Find the error in the following Python code:\n",
    "name = \"Alice\"\n",
    "age = 25\n",
    "print(\"Name: \" + name + \", Age: \" + age)\n",
    "# can only contenate str(not int) to str"
   ]
  },
  {
   "cell_type": "code",
   "execution_count": 30,
   "id": "5ef4d08f-66bc-43bf-a3b0-efb922d86f22",
   "metadata": {},
   "outputs": [
    {
     "name": "stdout",
     "output_type": "stream",
     "text": [
      "Name: Alice, Age:  25\n"
     ]
    }
   ],
   "source": [
    "#7 correct code\n",
    "name=\"Alice\"\n",
    "age=25\n",
    "print(\"Name: \" + name + \", Age: \", + age)"
   ]
  },
  {
   "cell_type": "code",
   "execution_count": 32,
   "id": "3e4b6f3b",
   "metadata": {},
   "outputs": [],
   "source": [
    "#8.Find the error\n",
    "for i in range(1, 10, -1):\n",
    "    print(i)\n",
    "# start value 1,stop value is 10,step value is -1, so (1+-1)=0 which is not in the range 1,10 so it is not printed"
   ]
  },
  {
   "cell_type": "code",
   "execution_count": 40,
   "id": "8f3abec2-4be8-4aa4-8843-c6d3043bb104",
   "metadata": {},
   "outputs": [
    {
     "name": "stdout",
     "output_type": "stream",
     "text": [
      "10\n",
      "9\n",
      "8\n",
      "7\n",
      "6\n",
      "5\n",
      "4\n",
      "3\n",
      "2\n"
     ]
    }
   ],
   "source": [
    "for i in range(10,1,-1):\n",
    "    print(i)"
   ]
  },
  {
   "cell_type": "code",
   "execution_count": null,
   "id": "95976c4d",
   "metadata": {},
   "outputs": [],
   "source": [
    "#9. Find the error in the following Python code:\n",
    "x = 10\n",
    "if x = 5:\n",
    "    print(\"x is 5\")\n",
    "# to check the value in variable == should be used"
   ]
  },
  {
   "cell_type": "code",
   "execution_count": 48,
   "id": "21445c37-16d2-4296-a3e4-9370e2a0edf5",
   "metadata": {},
   "outputs": [],
   "source": [
    "#9 correct code\n",
    "x=10\n",
    "if x==5:\n",
    "    print(\"x is 5\")\n"
   ]
  },
  {
   "cell_type": "code",
   "execution_count": null,
   "id": "317eca50",
   "metadata": {},
   "outputs": [],
   "source": [
    "#10. Identify the error in the following function definition:\n",
    "\n",
    "def greet(name)\n",
    "    print(\"Hello, \" + name)\n",
    "\n",
    "# missing: in function definition\n"
   ]
  },
  {
   "cell_type": "code",
   "execution_count": 54,
   "id": "7046c950-61f5-45e6-b4fc-280250658af1",
   "metadata": {},
   "outputs": [
    {
     "name": "stdout",
     "output_type": "stream",
     "text": [
      "Hello, raji\n"
     ]
    }
   ],
   "source": [
    "def greet(name):\n",
    "    print(\"Hello, \" + name)\n",
    "greet(\"raji\")"
   ]
  },
  {
   "cell_type": "code",
   "execution_count": null,
   "id": "10315970-d4eb-42c2-bd07-bdaa2ed7188f",
   "metadata": {},
   "outputs": [],
   "source": []
  }
 ],
 "metadata": {
  "kernelspec": {
   "display_name": "Python [conda env:base] *",
   "language": "python",
   "name": "conda-base-py"
  },
  "language_info": {
   "codemirror_mode": {
    "name": "ipython",
    "version": 3
   },
   "file_extension": ".py",
   "mimetype": "text/x-python",
   "name": "python",
   "nbconvert_exporter": "python",
   "pygments_lexer": "ipython3",
   "version": "3.12.7"
  }
 },
 "nbformat": 4,
 "nbformat_minor": 5
}
