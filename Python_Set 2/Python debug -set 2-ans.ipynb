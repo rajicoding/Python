{
 "cells": [
  {
   "cell_type": "code",
   "execution_count": null,
   "id": "90e9fa4e",
   "metadata": {},
   "outputs": [],
   "source": [
    "#1.Find the error in the following Python code:\n",
    "import math\n",
    "print(Math.sqrt(16))\n",
    "# it should be specified as math in print statement as python code is case sensitive \n",
    "# Name error as it takes Math as different variable which is not defined earlier"
   ]
  },
  {
   "cell_type": "code",
   "execution_count": null,
   "id": "7b347d9f-7658-4d2c-b22e-ec6e45c5fd16",
   "metadata": {},
   "outputs": [],
   "source": [
    "#1.correct code\n",
    "import math\n",
    "print(math.sqrt(16))"
   ]
  },
  {
   "cell_type": "code",
   "execution_count": null,
   "id": "55520fd2",
   "metadata": {},
   "outputs": [],
   "source": [
    "#2.Find the error in the following Python code:\n",
    "def my_function():\n",
    "    x += 5\n",
    "    print(x)\n",
    "\n",
    "x = 10\n",
    "my_function()\n",
    "# here x is assigned to 10 before calling the function and inside the function we are trying to do operation with x(local variable as per the function)\n",
    "# without assigning it so unboundlocal error occurs\n",
    "# To overcome it either we need to make the assignment within the function or we need to declare the variable as global in the function "
   ]
  },
  {
   "cell_type": "code",
   "execution_count": null,
   "id": "e7dcf9dd-063e-47bb-91a1-8a04b0be7eed",
   "metadata": {},
   "outputs": [],
   "source": [
    "# correct code 1: assignment within the function\n",
    "def my_function():\n",
    "    x = 10\n",
    "    x += 5\n",
    "    print(x)\n",
    "\n",
    "\n",
    "my_function()"
   ]
  },
  {
   "cell_type": "code",
   "execution_count": null,
   "id": "f8fde41d-43ce-4fb4-b269-9e252ec989ae",
   "metadata": {},
   "outputs": [],
   "source": [
    "# correct code 2: Declaring x as global variable\n",
    "def my_function():\n",
    "    global x\n",
    "    x += 5\n",
    "    print(x)\n",
    "\n",
    "x = 10\n",
    "my_function()"
   ]
  },
  {
   "cell_type": "code",
   "execution_count": null,
   "id": "f23899ca",
   "metadata": {},
   "outputs": [],
   "source": [
    "#3.\n",
    "x = 5\n",
    "if x = 10:\n",
    "    print(\"x is 10\")\n",
    "# here = is used instead  of == (equality operator) which is used for comparison"
   ]
  },
  {
   "cell_type": "code",
   "execution_count": null,
   "id": "83ccacd4-2b98-4b26-8194-056ee5515ad7",
   "metadata": {},
   "outputs": [],
   "source": [
    "# correct code\n",
    "x = 5\n",
    "if x==10:\n",
    "    print(\"x is 10\")\n",
    "else:\n",
    "   print(\"x is\",x)"
   ]
  },
  {
   "cell_type": "code",
   "execution_count": null,
   "id": "c644c2f2",
   "metadata": {},
   "outputs": [],
   "source": [
    "#4.\n",
    "numbers = [5, 3, 8, 2]\n",
    "print(numbers.sort())\n",
    "# sort() will sort the list and returns none, so we will get output as none for the above code\n",
    "# either we can sort the number before the print statement and print them or we can use sorted(numbers) in the print statement"
   ]
  },
  {
   "cell_type": "code",
   "execution_count": 1,
   "id": "20406fa7-04af-426c-9a70-0d81e56224c2",
   "metadata": {},
   "outputs": [
    {
     "name": "stdout",
     "output_type": "stream",
     "text": [
      "[2, 3, 5, 8]\n"
     ]
    }
   ],
   "source": [
    "# correct code 1: using sorted in print statement\n",
    "numbers = [5, 3, 8, 2]\n",
    "print(sorted(numbers))"
   ]
  },
  {
   "cell_type": "code",
   "execution_count": 3,
   "id": "68cf1cf5-d413-49a6-a0cc-0936b20d0cd5",
   "metadata": {},
   "outputs": [
    {
     "name": "stdout",
     "output_type": "stream",
     "text": [
      "[2, 3, 5, 8]\n"
     ]
    }
   ],
   "source": [
    "# correct code 2: sort the numbers before print statement using sort()\n",
    "numbers = [5, 3, 8, 2]\n",
    "numbers.sort()\n",
    "print(numbers)"
   ]
  },
  {
   "cell_type": "code",
   "execution_count": null,
   "id": "c6bc9bfb",
   "metadata": {},
   "outputs": [],
   "source": [
    "#5.\n",
    "def square(n):\n",
    "    n * n\n",
    "\n",
    "print(square(4))\n",
    "# we will get none as output as the function does not return any value"
   ]
  },
  {
   "cell_type": "code",
   "execution_count": 5,
   "id": "85cda439-1b70-4311-b776-8f7b58976590",
   "metadata": {},
   "outputs": [
    {
     "name": "stdout",
     "output_type": "stream",
     "text": [
      "16\n"
     ]
    }
   ],
   "source": [
    "# correct code\n",
    "def square(n):\n",
    "    return n * n\n",
    "\n",
    "print(square(4))"
   ]
  },
  {
   "cell_type": "code",
   "execution_count": null,
   "id": "3a9dbcc0",
   "metadata": {},
   "outputs": [],
   "source": [
    "#6.\n",
    "my_tuple = (1, 2, 3)\n",
    "my_tuple[1] = 5\n",
    "# as tuples are immutable it does not support item assignment"
   ]
  },
  {
   "cell_type": "code",
   "execution_count": 11,
   "id": "b15f6125-62cb-4fc1-a7bc-911977ecc351",
   "metadata": {},
   "outputs": [
    {
     "name": "stdout",
     "output_type": "stream",
     "text": [
      "(1, 5, 3)\n"
     ]
    }
   ],
   "source": [
    "# correct code to change the value from 2 to 5 in the tuple:\n",
    "my_tuple=(1,2,3)\n",
    "my_tuple=my_tuple[:1] + (5,) + my_tuple[2:]\n",
    "print(my_tuple)\n",
    "# concatenate tuples based on the index position"
   ]
  },
  {
   "cell_type": "code",
   "execution_count": null,
   "id": "4a72685b",
   "metadata": {},
   "outputs": [],
   "source": [
    "#7.\n",
    "name = \"Alice\"\n",
    "age = 25\n",
    "print(\"My name is %s and I am %d years old\" % (name))\n",
    "# required arguments are not passed here for formatting\n"
   ]
  },
  {
   "cell_type": "code",
   "execution_count": 13,
   "id": "e22578dd-85a9-4366-94cb-ccd54a1ec14d",
   "metadata": {},
   "outputs": [
    {
     "name": "stdout",
     "output_type": "stream",
     "text": [
      "My name is Alice and I am 25 years old\n"
     ]
    }
   ],
   "source": [
    "# correct code\n",
    "name = \"Alice\"\n",
    "age = 25\n",
    "print(\"My name is %s and I am %d years old\" % (name,age))\n",
    "\n"
   ]
  },
  {
   "cell_type": "code",
   "execution_count": null,
   "id": "3de969fe",
   "metadata": {},
   "outputs": [],
   "source": [
    "#8.\n",
    "a = [1, 2, 3]\n",
    "b = [1, 2, 3]\n",
    "if a is b:\n",
    "    print(\"Lists are equal\")\n",
    "# is checks if the two variables point to the same object, so here we will not get any output as they didn't use same object\n"
   ]
  },
  {
   "cell_type": "code",
   "execution_count": 15,
   "id": "c55ffbb4-de03-4d64-b283-969aab9267ce",
   "metadata": {},
   "outputs": [
    {
     "name": "stdout",
     "output_type": "stream",
     "text": [
      "Lists are equal\n"
     ]
    }
   ],
   "source": [
    "# code to print \n",
    "a = [1, 2, 3]\n",
    "b = [1, 2, 3]\n",
    "if a == b:\n",
    "    print(\"Lists are equal\")"
   ]
  },
  {
   "cell_type": "code",
   "execution_count": null,
   "id": "dbe38465",
   "metadata": {},
   "outputs": [],
   "source": [
    "#9.\n",
    "for i in range(5, 1):\n",
    "    print(i)\n",
    "# first value is range denotes - start value, second value denotes stop value and the third one is step value\n",
    "# here stop value is less than start value so we will not get any output"
   ]
  },
  {
   "cell_type": "code",
   "execution_count": 17,
   "id": "a4099d60-3fe3-4624-aa0a-b547c872d098",
   "metadata": {},
   "outputs": [
    {
     "name": "stdout",
     "output_type": "stream",
     "text": [
      "0\n",
      "1\n",
      "2\n",
      "3\n",
      "4\n"
     ]
    }
   ],
   "source": [
    "# correct code 1\n",
    "for i in range(5):\n",
    "    print(i)"
   ]
  },
  {
   "cell_type": "code",
   "execution_count": 19,
   "id": "73885e1b-8b24-4da7-b464-f3085f7adcba",
   "metadata": {},
   "outputs": [
    {
     "name": "stdout",
     "output_type": "stream",
     "text": [
      "5\n",
      "6\n",
      "7\n",
      "8\n",
      "9\n"
     ]
    }
   ],
   "source": [
    "# correct code 2\n",
    "for i in range(5,10):\n",
    "    print(i)"
   ]
  },
  {
   "cell_type": "code",
   "execution_count": null,
   "id": "30cb0523",
   "metadata": {},
   "outputs": [],
   "source": [
    "#10.\n",
    "student = {\"name\": \"John\", \"age\": 20}\n",
    "print(student[name])\n",
    "# Name error: Name is not defined\n",
    "# to access dictionary values we should mention the variable within quotes"
   ]
  },
  {
   "cell_type": "code",
   "execution_count": 21,
   "id": "ea374124-e03e-468f-bcd2-a1e412578fc8",
   "metadata": {},
   "outputs": [
    {
     "name": "stdout",
     "output_type": "stream",
     "text": [
      "John\n"
     ]
    }
   ],
   "source": [
    "student = {\"name\": \"John\", \"age\": 20}\n",
    "print(student[\"name\"])"
   ]
  },
  {
   "cell_type": "code",
   "execution_count": null,
   "id": "adf48317-3f5a-493f-ab7e-166005ee867b",
   "metadata": {},
   "outputs": [],
   "source": []
  }
 ],
 "metadata": {
  "kernelspec": {
   "display_name": "Python [conda env:base] *",
   "language": "python",
   "name": "conda-base-py"
  },
  "language_info": {
   "codemirror_mode": {
    "name": "ipython",
    "version": 3
   },
   "file_extension": ".py",
   "mimetype": "text/x-python",
   "name": "python",
   "nbconvert_exporter": "python",
   "pygments_lexer": "ipython3",
   "version": "3.12.7"
  }
 },
 "nbformat": 4,
 "nbformat_minor": 5
}
